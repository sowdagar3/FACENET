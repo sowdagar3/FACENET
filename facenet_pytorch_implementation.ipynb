{
 "cells": [
  {
   "cell_type": "code",
   "execution_count": null,
   "id": "e42087d2",
   "metadata": {},
   "outputs": [],
   "source": [
    "import pandas as pd\n",
    "import numpy as np\n",
    "import os\n",
    "import glob\n",
    "from tqdm import tqdm\n",
    "import seaborn as sns\n",
    "\n",
    "import torch\n",
    "import cv2\n",
    "import matplotlib.pyplot as plt\n",
    "from facenet_pytorch import MTCNN, InceptionResnetV1, extract_face\n",
    "device = 'cuda:1' if torch.cuda.is_available() else 'cpu'\n",
    "from pathlib import Path\n",
    "from PIL import Image"
   ]
  },
  {
   "cell_type": "code",
   "execution_count": null,
   "id": "f2147313",
   "metadata": {},
   "outputs": [],
   "source": [
    "margin =20\n",
    "image_size = 160\n",
    "\n",
    "# Load face detector\n",
    "mtcnn = MTCNN(keep_all=False, select_largest=False, post_process=False,\n",
    "              device=device,margin=margin, image_size=image_size,thresholds=[0.7, 0.7, 0.7])\n",
    "\n",
    "# Load facial recognition model\n",
    "resnet = InceptionResnetV1(pretrained='casia-webface', device=device).eval()"
   ]
  },
  {
   "cell_type": "code",
   "execution_count": null,
   "id": "3c09ac26",
   "metadata": {},
   "outputs": [],
   "source": [
    "# extract a single face from a given photograph\n",
    "def extract_face(filename, required_size=(160, 160)):\n",
    "    # load image from file\n",
    "    image = Image.open(filename)\n",
    "    # convert to RGB, if needed\n",
    "    image = image.convert('RGB')\n",
    "    # convert to array\n",
    "    pixels = np.asarray(image)\n",
    "    # detect faces in the image\n",
    "    face_array = mtcnn(pixels)\n",
    "    if face_array==None:\n",
    "        return None\n",
    "    return face_array.permute(1,2,0).int().numpy()\n"
   ]
  },
  {
   "cell_type": "code",
   "execution_count": null,
   "id": "71297cf7",
   "metadata": {},
   "outputs": [],
   "source": [
    "image = Image.open(\"/home/server/Shahid/Datasets/Bollywood_celeb_dataset_100_classes/bollywood_celeb_faces_0/Aamir_Khan/5.jpg\")\n",
    "image.size"
   ]
  },
  {
   "cell_type": "code",
   "execution_count": null,
   "id": "eddf52d4",
   "metadata": {
    "scrolled": true
   },
   "outputs": [],
   "source": [
    "def load_face(dir):\n",
    "    faces = list()\n",
    "    # enumerate files\n",
    "    for filename in os.listdir(dir):\n",
    "        path = dir + '/'+ filename\n",
    "        if (\".jpg\" not in filename) and (\".png\" not in filename):\n",
    "            continue\n",
    "        face = extract_face(path)\n",
    "        if face is None:\n",
    "            continue\n",
    "        faces.append(face) \n",
    "    return faces\n",
    "\n",
    "def load_dataset(dir):\n",
    "    # list for faces and labels\n",
    "    X, y = list(), list()\n",
    "    for subdir in os.listdir(dir):\n",
    "        path =dir +'/'+subdir\n",
    "        faces = load_face(path)\n",
    "        labels = [subdir for i in range(len(faces))]\n",
    "        print(\"loaded %d sample for class: %s\" % (len(faces),subdir) ) # print progress\n",
    "        X.extend(faces)\n",
    "        y.extend(labels)\n",
    "    return np.asarray(X), np.asarray(y)\n",
    "\n",
    "\n",
    "# load train dataset\n",
    "trainX1, trainy1 = load_dataset('/home/server/Shahid/Datasets/Bollywood_celeb_dataset_100_classes/bollywood_celeb_faces_0')\n",
    "print(trainX1.shape, trainy1.shape)\n",
    "\n",
    "trainX2, trainy2 = load_dataset('/home/server/Shahid/Datasets/Bollywood_celeb_dataset_100_classes/bollywood_celeb_faces_1')\n",
    "print(trainX2.shape, trainy2.shape)\n",
    "\n",
    "trainX3, trainy3 = load_dataset('/home/server/Shahid/Datasets/Bollywood_celeb_dataset_100_classes/bollywood_celeb_faces2')\n",
    "print(trainX3.shape, trainy3.shape)\n",
    "\n",
    "# save and compress the dataset for further use\n",
    "#np.savez_compressed('5-celebrity-faces-dataset.npz', trainX, trainy, testX, testy)"
   ]
  },
  {
   "cell_type": "code",
   "execution_count": null,
   "id": "acc9e2a8",
   "metadata": {},
   "outputs": [],
   "source": [
    "trainX=np.concatenate((trainX1,trainX2,trainX3), axis=0)\n",
    "trainy=np.concatenate((trainy1,trainy2,trainy3), axis=0)"
   ]
  },
  {
   "cell_type": "code",
   "execution_count": null,
   "id": "7ecf06ce",
   "metadata": {},
   "outputs": [],
   "source": [
    "trainy.shape"
   ]
  },
  {
   "cell_type": "code",
   "execution_count": null,
   "id": "b6420e1b",
   "metadata": {},
   "outputs": [],
   "source": [
    "np.savez_compressed('100_Bollywood_celebrity_faces_dataset.npz',trainX,trainy)"
   ]
  },
  {
   "cell_type": "code",
   "execution_count": null,
   "id": "37684bbc",
   "metadata": {},
   "outputs": [],
   "source": [
    "# load the face dataset\n",
    "data = np.load('100_Bollywood_celebrity_faces_dataset.npz')\n",
    "trainX, trainy = data['arr_0'], data['arr_1']\n",
    "print('Loaded: ', trainX.shape, trainy.shape)"
   ]
  },
  {
   "cell_type": "code",
   "execution_count": null,
   "id": "c8c456ea",
   "metadata": {},
   "outputs": [],
   "source": [
    "trainy.shape"
   ]
  },
  {
   "cell_type": "code",
   "execution_count": null,
   "id": "016970b9",
   "metadata": {},
   "outputs": [],
   "source": [
    "from sklearn.model_selection import train_test_split\n",
    "\n",
    "trainX,testX,trainy,testy=train_test_split(trainX,trainy, test_size=0.33, random_state=42,stratify=trainy)"
   ]
  },
  {
   "cell_type": "code",
   "execution_count": null,
   "id": "9c588dc8",
   "metadata": {},
   "outputs": [],
   "source": [
    "from torchvision.transforms import ToTensor\n",
    "tf_img = lambda i: ToTensor()(i).unsqueeze(0).float()\n",
    "embeddings = lambda input: resnet(input)"
   ]
  },
  {
   "cell_type": "code",
   "execution_count": null,
   "id": "4fc41922",
   "metadata": {},
   "outputs": [],
   "source": [
    "# convert each face in the train set into embedding\n",
    "emdTrainX = list()\n",
    "for face in trainX:\n",
    "    #mean, std = face.mean(), face.std()\n",
    "    #face = (face-mean)/std\n",
    "    face=face/255\n",
    "    t = tf_img(face).to(device)\n",
    "    emd = embeddings(t).squeeze().cpu().tolist()\n",
    "    emdTrainX.append(emd)\n",
    "    #print(len(emd))\n",
    "    \n",
    "emdTrainX = np.asarray(emdTrainX)\n",
    "print(emdTrainX.shape)\n",
    "\n",
    "# convert each face in the test set into embedding\n",
    "emdTestX = list()\n",
    "for face in testX:\n",
    "    mean, std = face.mean(), face.std()\n",
    "    #face = (face-mean)/std\n",
    "    face=face/255\n",
    "    t = tf_img(face).to(device)\n",
    "    emd = embeddings(t).squeeze().cpu().tolist()\n",
    "    emdTestX.append(emd)\n",
    "emdTestX = np.asarray(emdTestX)\n",
    "print(emdTestX.shape)\n",
    "\n",
    "# save arrays to one file in compressed format\n",
    "np.savez_compressed('100-Bollywood_celebrity-faces-embeddings.npz', emdTrainX, trainy, emdTestX, testy)"
   ]
  },
  {
   "cell_type": "code",
   "execution_count": null,
   "id": "45c948b5",
   "metadata": {},
   "outputs": [],
   "source": [
    "data=np.load(\"100-Bollywood_celebrity-faces-embeddings.npz\")"
   ]
  },
  {
   "cell_type": "code",
   "execution_count": null,
   "id": "18af1ba8",
   "metadata": {},
   "outputs": [],
   "source": [
    "emdTrainX, trainy, emdTestX, testy=data[\"arr_0\"],data[\"arr_1\"],data[\"arr_2\"],data[\"arr_3\"]"
   ]
  },
  {
   "cell_type": "code",
   "execution_count": null,
   "id": "14199f67",
   "metadata": {
    "scrolled": false
   },
   "outputs": [],
   "source": [
    "from sklearn.metrics import accuracy_score\n",
    "from sklearn.preprocessing import LabelEncoder\n",
    "from sklearn.preprocessing import Normalizer\n",
    "from sklearn.svm import SVC\n",
    "\n",
    "print(\"Dataset: train=%d, test=%d\" % (emdTrainX.shape[0], emdTestX.shape[0]))\n",
    "# normalize input vectors\n",
    "in_encoder = Normalizer()\n",
    "emdTrainX_norm=emdTrainX#no effect of normalizer\n",
    "emdTestX_norm=emdTestX\n",
    "#emdTrainX_norm = in_encoder.transform(emdTrainX)\n",
    "#emdTestX_norm = in_encoder.transform(emdTestX)\n",
    "# label encode targets\n",
    "out_encoder = LabelEncoder()\n",
    "out_encoder.fit(trainy)\n",
    "trainy_enc = out_encoder.transform(trainy)\n",
    "testy_enc = out_encoder.transform(testy)\n",
    "# fit model\n",
    "model = SVC(kernel='linear', probability=True)\n",
    "model.fit(emdTrainX_norm, trainy_enc)\n",
    "# predict\n",
    "yhat_train = model.predict(emdTrainX_norm)\n",
    "yhat_test = model.predict(emdTestX_norm)\n",
    "# score\n",
    "score_train = accuracy_score(trainy_enc, yhat_train)\n",
    "score_test = accuracy_score(testy_enc, yhat_test)\n",
    "# summarize\n",
    "print('Accuracy: train=%.3f, test=%.3f' % (score_train*100, score_test*100))"
   ]
  },
  {
   "cell_type": "code",
   "execution_count": null,
   "id": "fe2890cc",
   "metadata": {},
   "outputs": [],
   "source": [
    "from random import choice\n",
    "# select a random face from test set\n",
    "selection = choice([i for i in range(testX.shape[0])])\n",
    "random_face = testX[selection]\n",
    "random_face_emd = emdTestX_norm[selection]\n",
    "random_face_class = testy_enc[selection]\n",
    "random_face_name = out_encoder.inverse_transform([random_face_class])\n",
    "\n",
    "# prediction for the face\n",
    "samples = np.expand_dims(random_face_emd, axis=0)\n",
    "yhat_class = model.predict(samples)\n",
    "yhat_prob = model.predict_proba(samples)\n",
    "# get name\n",
    "class_index = yhat_class[0]\n",
    "class_probability = yhat_prob[0,class_index] * 100\n",
    "predict_names = out_encoder.inverse_transform(yhat_class)\n",
    "all_names = out_encoder.inverse_transform(list(np.unique(trainy_enc)))\n",
    "#print('Predicted: %s (%.3f)' % (predict_names[0], class_probability))\n",
    "#print('Predicted: \\n%s \\n%s' % (all_names, yhat_prob[0]*100))\n",
    "print('Expected: %s' % random_face_name[0])\n",
    "print(\"predicted:\",predict_names[0])\n",
    "# plot face\n",
    "plt.imshow(random_face)\n",
    "title = '%s (%.3f)' % (predict_names[0], class_probability)\n",
    "plt.title(title)\n",
    "plt.show()"
   ]
  },
  {
   "cell_type": "code",
   "execution_count": null,
   "id": "5dc26d33",
   "metadata": {},
   "outputs": [],
   "source": []
  },
  {
   "cell_type": "code",
   "execution_count": null,
   "id": "c3819719",
   "metadata": {},
   "outputs": [],
   "source": []
  },
  {
   "cell_type": "code",
   "execution_count": null,
   "id": "cd55bd15",
   "metadata": {},
   "outputs": [],
   "source": []
  }
 ],
 "metadata": {
  "kernelspec": {
   "display_name": "Python 3 (ipykernel)",
   "language": "python",
   "name": "python3"
  },
  "language_info": {
   "codemirror_mode": {
    "name": "ipython",
    "version": 3
   },
   "file_extension": ".py",
   "mimetype": "text/x-python",
   "name": "python",
   "nbconvert_exporter": "python",
   "pygments_lexer": "ipython3",
   "version": "3.9.13"
  }
 },
 "nbformat": 4,
 "nbformat_minor": 5
}
