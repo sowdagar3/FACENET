{
 "cells": [
  {
   "cell_type": "code",
   "execution_count": 1,
   "id": "2b27fcfd",
   "metadata": {},
   "outputs": [],
   "source": [
    "import pandas as pd\n",
    "import numpy as np\n",
    "import os\n",
    "import glob\n",
    "from tqdm import tqdm\n",
    "import seaborn as sns\n",
    "import pickle \n",
    "\n",
    "import torch\n",
    "import cv2\n",
    "import matplotlib.pyplot as plt\n",
    "from facenet_pytorch import MTCNN, InceptionResnetV1, extract_face\n",
    "device = 'cuda:1' if torch.cuda.is_available() else 'cpu'\n",
    "from torchvision.transforms import ToTensor\n",
    "from sklearn.preprocessing import Normalizer\n",
    "from PIL import Image\n",
    "from sklearn.cluster import DBSCAN\n",
    "from sklearn.preprocessing import StandardScaler\n"
   ]
  },
  {
   "cell_type": "code",
   "execution_count": 2,
   "id": "367c9c90",
   "metadata": {},
   "outputs": [],
   "source": [
    "data=np.load(\"100-Bollywood_celebrity-faces-embeddings.npz\")"
   ]
  },
  {
   "cell_type": "code",
   "execution_count": 3,
   "id": "0e0aaa30",
   "metadata": {},
   "outputs": [],
   "source": [
    "emdTrainX, trainy, emdTestX, test=data[\"arr_0\"],data[\"arr_1\"],data[\"arr_2\"],data[\"arr_3\"]"
   ]
  },
  {
   "cell_type": "code",
   "execution_count": 4,
   "id": "63e11995",
   "metadata": {},
   "outputs": [],
   "source": [
    "img_embeddings=np.concatenate((emdTrainX,emdTestX),axis=0)\n",
    "scaler = StandardScaler()\n",
    "img_embeddings=scaler.fit_transform(img_embeddings)"
   ]
  },
  {
   "cell_type": "code",
   "execution_count": 5,
   "id": "2822b7f4",
   "metadata": {},
   "outputs": [
    {
     "name": "stdout",
     "output_type": "stream",
     "text": [
      "(11803, 512)\n"
     ]
    }
   ],
   "source": [
    "print(img_embeddings.shape)"
   ]
  },
  {
   "cell_type": "code",
   "execution_count": 6,
   "id": "36399a05",
   "metadata": {},
   "outputs": [],
   "source": [
    "_ = np.random.shuffle(img_embeddings)# to shuffle the image embeddings\n",
    "d={\"im_id\":list(range(img_embeddings.shape[0]))}"
   ]
  },
  {
   "cell_type": "code",
   "execution_count": 7,
   "id": "f2710a57",
   "metadata": {},
   "outputs": [],
   "source": [
    "data=pd.DataFrame(d)"
   ]
  },
  {
   "cell_type": "code",
   "execution_count": 8,
   "id": "3b7a4375",
   "metadata": {},
   "outputs": [],
   "source": [
    "data[\"emb\"]=img_embeddings.tolist()"
   ]
  },
  {
   "cell_type": "code",
   "execution_count": 9,
   "id": "a6bfb4ab",
   "metadata": {},
   "outputs": [
    {
     "name": "stderr",
     "output_type": "stream",
     "text": [
      "C:\\Users\\91798\\AppData\\Local\\Temp\\ipykernel_11952\\2985433718.py:2: SettingWithCopyWarning: \n",
      "A value is trying to be set on a copy of a slice from a DataFrame\n",
      "\n",
      "See the caveats in the documentation: https://pandas.pydata.org/pandas-docs/stable/user_guide/indexing.html#returning-a-view-versus-a-copy\n",
      "  data[\"emb\"][i]=np.array(data[\"emb\"][i])\n"
     ]
    }
   ],
   "source": [
    "for i in range(len(data)):\n",
    "    data[\"emb\"][i]=np.array(data[\"emb\"][i])"
   ]
  },
  {
   "cell_type": "markdown",
   "id": "bf61489f",
   "metadata": {},
   "source": [
    "## Clustering"
   ]
  },
  {
   "cell_type": "code",
   "execution_count": 1,
   "id": "8536c007",
   "metadata": {},
   "outputs": [
    {
     "ename": "ModuleNotFoundError",
     "evalue": "No module named 'hdbscan'",
     "output_type": "error",
     "traceback": [
      "\u001b[1;31m---------------------------------------------------------------------------\u001b[0m",
      "\u001b[1;31mModuleNotFoundError\u001b[0m                       Traceback (most recent call last)",
      "\u001b[1;32m~\\AppData\\Local\\Temp\\ipykernel_12220\\2399810005.py\u001b[0m in \u001b[0;36m<module>\u001b[1;34m\u001b[0m\n\u001b[0;32m      1\u001b[0m \u001b[1;32mfrom\u001b[0m \u001b[0msklearn\u001b[0m\u001b[1;33m.\u001b[0m\u001b[0mneighbors\u001b[0m \u001b[1;32mimport\u001b[0m \u001b[0mKNeighborsClassifier\u001b[0m\u001b[1;33m,\u001b[0m \u001b[0mNearestNeighbors\u001b[0m\u001b[1;33m\u001b[0m\u001b[1;33m\u001b[0m\u001b[0m\n\u001b[0;32m      2\u001b[0m \u001b[1;32mfrom\u001b[0m \u001b[0msklearn\u001b[0m\u001b[1;33m.\u001b[0m\u001b[0mmetrics\u001b[0m \u001b[1;32mimport\u001b[0m \u001b[0msilhouette_score\u001b[0m\u001b[1;33m\u001b[0m\u001b[1;33m\u001b[0m\u001b[0m\n\u001b[1;32m----> 3\u001b[1;33m \u001b[1;32mimport\u001b[0m \u001b[0mhdbscan\u001b[0m\u001b[1;33m\u001b[0m\u001b[1;33m\u001b[0m\u001b[0m\n\u001b[0m",
      "\u001b[1;31mModuleNotFoundError\u001b[0m: No module named 'hdbscan'"
     ]
    }
   ],
   "source": [
    "from sklearn.neighbors import KNeighborsClassifier, NearestNeighbors\n",
    "from sklearn.metrics import silhouette_score\n",
    "import hdbscan"
   ]
  },
  {
   "cell_type": "code",
   "execution_count": 11,
   "id": "1625d4c4",
   "metadata": {},
   "outputs": [
    {
     "ename": "TypeError",
     "evalue": "'float' object cannot be interpreted as an integer",
     "output_type": "error",
     "traceback": [
      "\u001b[1;31m---------------------------------------------------------------------------\u001b[0m",
      "\u001b[1;31mTypeError\u001b[0m                                 Traceback (most recent call last)",
      "\u001b[1;32m~\\AppData\\Local\\Temp\\ipykernel_11952\\3211003150.py\u001b[0m in \u001b[0;36m<module>\u001b[1;34m\u001b[0m\n\u001b[0;32m      1\u001b[0m \u001b[0mX\u001b[0m\u001b[1;33m=\u001b[0m\u001b[0mimg_embeddings\u001b[0m\u001b[1;33m\u001b[0m\u001b[1;33m\u001b[0m\u001b[0m\n\u001b[0;32m      2\u001b[0m \u001b[0mhdbscan\u001b[0m \u001b[1;33m=\u001b[0m \u001b[0mhdbscan\u001b[0m\u001b[1;33m.\u001b[0m\u001b[0mHDBSCAN\u001b[0m\u001b[1;33m(\u001b[0m\u001b[0mmin_cluster_size\u001b[0m\u001b[1;33m=\u001b[0m\u001b[1;36m12\u001b[0m\u001b[1;33m)\u001b[0m\u001b[1;33m\u001b[0m\u001b[1;33m\u001b[0m\u001b[0m\n\u001b[1;32m----> 3\u001b[1;33m \u001b[0mhdbscan\u001b[0m\u001b[1;33m.\u001b[0m\u001b[0mfit\u001b[0m\u001b[1;33m(\u001b[0m\u001b[0mX\u001b[0m\u001b[1;33m)\u001b[0m\u001b[1;33m\u001b[0m\u001b[1;33m\u001b[0m\u001b[0m\n\u001b[0m\u001b[0;32m      4\u001b[0m \u001b[0mhdbscan_predictions\u001b[0m \u001b[1;33m=\u001b[0m \u001b[0mhdbscan\u001b[0m\u001b[1;33m.\u001b[0m\u001b[0mlabels_\u001b[0m\u001b[1;33m\u001b[0m\u001b[1;33m\u001b[0m\u001b[0m\n\u001b[0;32m      5\u001b[0m \u001b[0mdata\u001b[0m\u001b[1;33m[\u001b[0m\u001b[1;34m'Cluster_DBSCAN_OPT'\u001b[0m\u001b[1;33m]\u001b[0m \u001b[1;33m=\u001b[0m \u001b[0mhdbscan_predictions\u001b[0m\u001b[1;33m\u001b[0m\u001b[1;33m\u001b[0m\u001b[0m\n",
      "\u001b[1;32m~\\Anaconda\\lib\\site-packages\\hdbscan\\hdbscan_.py\u001b[0m in \u001b[0;36mfit\u001b[1;34m(self, X, y)\u001b[0m\n\u001b[0;32m   1203\u001b[0m             \u001b[0mself\u001b[0m\u001b[1;33m.\u001b[0m\u001b[0m_single_linkage_tree\u001b[0m\u001b[1;33m,\u001b[0m\u001b[1;33m\u001b[0m\u001b[1;33m\u001b[0m\u001b[0m\n\u001b[0;32m   1204\u001b[0m             \u001b[0mself\u001b[0m\u001b[1;33m.\u001b[0m\u001b[0m_min_spanning_tree\u001b[0m\u001b[1;33m,\u001b[0m\u001b[1;33m\u001b[0m\u001b[1;33m\u001b[0m\u001b[0m\n\u001b[1;32m-> 1205\u001b[1;33m         ) = hdbscan(clean_data, **kwargs)\n\u001b[0m\u001b[0;32m   1206\u001b[0m \u001b[1;33m\u001b[0m\u001b[0m\n\u001b[0;32m   1207\u001b[0m         \u001b[1;32mif\u001b[0m \u001b[0mself\u001b[0m\u001b[1;33m.\u001b[0m\u001b[0mmetric\u001b[0m \u001b[1;33m!=\u001b[0m \u001b[1;34m\"precomputed\"\u001b[0m \u001b[1;32mand\u001b[0m \u001b[1;32mnot\u001b[0m \u001b[0mself\u001b[0m\u001b[1;33m.\u001b[0m\u001b[0m_all_finite\u001b[0m\u001b[1;33m:\u001b[0m\u001b[1;33m\u001b[0m\u001b[1;33m\u001b[0m\u001b[0m\n",
      "\u001b[1;32m~\\Anaconda\\lib\\site-packages\\hdbscan\\hdbscan_.py\u001b[0m in \u001b[0;36mhdbscan\u001b[1;34m(X, min_cluster_size, min_samples, alpha, cluster_selection_epsilon, max_cluster_size, metric, p, leaf_size, algorithm, memory, approx_min_span_tree, gen_min_span_tree, core_dist_n_jobs, cluster_selection_method, allow_single_cluster, match_reference_implementation, **kwargs)\u001b[0m\n\u001b[0;32m    822\u001b[0m             \u001b[1;31m# still debugging for now\u001b[0m\u001b[1;33m\u001b[0m\u001b[1;33m\u001b[0m\u001b[0m\n\u001b[0;32m    823\u001b[0m             \u001b[1;32mif\u001b[0m \u001b[0mX\u001b[0m\u001b[1;33m.\u001b[0m\u001b[0mshape\u001b[0m\u001b[1;33m[\u001b[0m\u001b[1;36m1\u001b[0m\u001b[1;33m]\u001b[0m \u001b[1;33m>\u001b[0m \u001b[1;36m60\u001b[0m\u001b[1;33m:\u001b[0m\u001b[1;33m\u001b[0m\u001b[1;33m\u001b[0m\u001b[0m\n\u001b[1;32m--> 824\u001b[1;33m                 (single_linkage_tree, result_min_span_tree) = memory.cache(\n\u001b[0m\u001b[0;32m    825\u001b[0m                     \u001b[0m_hdbscan_prims_kdtree\u001b[0m\u001b[1;33m\u001b[0m\u001b[1;33m\u001b[0m\u001b[0m\n\u001b[0;32m    826\u001b[0m                 \u001b[1;33m)\u001b[0m\u001b[1;33m(\u001b[0m\u001b[1;33m\u001b[0m\u001b[1;33m\u001b[0m\u001b[0m\n",
      "\u001b[1;32m~\\Anaconda\\lib\\site-packages\\joblib\\memory.py\u001b[0m in \u001b[0;36m__call__\u001b[1;34m(self, *args, **kwargs)\u001b[0m\n\u001b[0;32m    351\u001b[0m \u001b[1;33m\u001b[0m\u001b[0m\n\u001b[0;32m    352\u001b[0m     \u001b[1;32mdef\u001b[0m \u001b[0m__call__\u001b[0m\u001b[1;33m(\u001b[0m\u001b[0mself\u001b[0m\u001b[1;33m,\u001b[0m \u001b[1;33m*\u001b[0m\u001b[0margs\u001b[0m\u001b[1;33m,\u001b[0m \u001b[1;33m**\u001b[0m\u001b[0mkwargs\u001b[0m\u001b[1;33m)\u001b[0m\u001b[1;33m:\u001b[0m\u001b[1;33m\u001b[0m\u001b[1;33m\u001b[0m\u001b[0m\n\u001b[1;32m--> 353\u001b[1;33m         \u001b[1;32mreturn\u001b[0m \u001b[0mself\u001b[0m\u001b[1;33m.\u001b[0m\u001b[0mfunc\u001b[0m\u001b[1;33m(\u001b[0m\u001b[1;33m*\u001b[0m\u001b[0margs\u001b[0m\u001b[1;33m,\u001b[0m \u001b[1;33m**\u001b[0m\u001b[0mkwargs\u001b[0m\u001b[1;33m)\u001b[0m\u001b[1;33m\u001b[0m\u001b[1;33m\u001b[0m\u001b[0m\n\u001b[0m\u001b[0;32m    354\u001b[0m \u001b[1;33m\u001b[0m\u001b[0m\n\u001b[0;32m    355\u001b[0m     \u001b[1;32mdef\u001b[0m \u001b[0mcall_and_shelve\u001b[0m\u001b[1;33m(\u001b[0m\u001b[0mself\u001b[0m\u001b[1;33m,\u001b[0m \u001b[1;33m*\u001b[0m\u001b[0margs\u001b[0m\u001b[1;33m,\u001b[0m \u001b[1;33m**\u001b[0m\u001b[0mkwargs\u001b[0m\u001b[1;33m)\u001b[0m\u001b[1;33m:\u001b[0m\u001b[1;33m\u001b[0m\u001b[1;33m\u001b[0m\u001b[0m\n",
      "\u001b[1;32m~\\Anaconda\\lib\\site-packages\\hdbscan\\hdbscan_.py\u001b[0m in \u001b[0;36m_hdbscan_prims_kdtree\u001b[1;34m(X, min_samples, alpha, metric, p, leaf_size, gen_min_span_tree, **kwargs)\u001b[0m\n\u001b[0;32m    263\u001b[0m \u001b[1;33m\u001b[0m\u001b[0m\n\u001b[0;32m    264\u001b[0m     \u001b[1;31m# Mutual reachability distance is implicit in mst_linkage_core_vector\u001b[0m\u001b[1;33m\u001b[0m\u001b[1;33m\u001b[0m\u001b[0m\n\u001b[1;32m--> 265\u001b[1;33m     \u001b[0mmin_spanning_tree\u001b[0m \u001b[1;33m=\u001b[0m \u001b[0mmst_linkage_core_vector\u001b[0m\u001b[1;33m(\u001b[0m\u001b[0mX\u001b[0m\u001b[1;33m,\u001b[0m \u001b[0mcore_distances\u001b[0m\u001b[1;33m,\u001b[0m \u001b[0mdist_metric\u001b[0m\u001b[1;33m,\u001b[0m \u001b[0malpha\u001b[0m\u001b[1;33m)\u001b[0m\u001b[1;33m\u001b[0m\u001b[1;33m\u001b[0m\u001b[0m\n\u001b[0m\u001b[0;32m    266\u001b[0m \u001b[1;33m\u001b[0m\u001b[0m\n\u001b[0;32m    267\u001b[0m     \u001b[1;31m# Sort edges of the min_spanning_tree by weight\u001b[0m\u001b[1;33m\u001b[0m\u001b[1;33m\u001b[0m\u001b[0m\n",
      "\u001b[1;32mhdbscan\\\\_hdbscan_linkage.pyx\u001b[0m in \u001b[0;36mhdbscan._hdbscan_linkage.mst_linkage_core_vector\u001b[1;34m()\u001b[0m\n",
      "\u001b[1;32mhdbscan\\\\_hdbscan_linkage.pyx\u001b[0m in \u001b[0;36mhdbscan._hdbscan_linkage.mst_linkage_core_vector\u001b[1;34m()\u001b[0m\n",
      "\u001b[1;31mTypeError\u001b[0m: 'float' object cannot be interpreted as an integer"
     ]
    }
   ],
   "source": [
    "X=img_embeddings\n",
    "hdbscan = hdbscan.HDBSCAN(min_cluster_size=12)\n",
    "hdbscan.fit(X)\n",
    "hdbscan_predictions = hdbscan.labels_\n",
    "data['Cluster_DBSCAN_OPT'] = hdbscan_predictions"
   ]
  },
  {
   "cell_type": "code",
   "execution_count": null,
   "id": "7574ba55",
   "metadata": {},
   "outputs": [],
   "source": [
    "np.unique(dbscan_predictions)"
   ]
  },
  {
   "cell_type": "code",
   "execution_count": null,
   "id": "01846c9b",
   "metadata": {},
   "outputs": [],
   "source": [
    "a=list(dbscan_predictions)\n",
    "a.count(-1)"
   ]
  },
  {
   "cell_type": "code",
   "execution_count": null,
   "id": "0a87d8ee",
   "metadata": {
    "scrolled": true
   },
   "outputs": [],
   "source": [
    "#Silhoutte_score without outliers\n",
    "silhouettescore = silhouette_score(np.stack(data[\"emb\"][dbscan_predictions!=-1]), dbscan_predictions[dbscan_predictions!=-1])\n",
    "print(silhouettescore)"
   ]
  },
  {
   "cell_type": "code",
   "execution_count": null,
   "id": "17343351",
   "metadata": {},
   "outputs": [],
   "source": [
    "X_train = data[data['Cluster_DBSCAN_OPT'] != -1][[\"emb\"]].reset_index(drop=True)\n",
    "y_train = data[data['Cluster_DBSCAN_OPT'] != -1][['Cluster_DBSCAN_OPT']].reset_index(drop=True)\n",
    "X_test = data[data['Cluster_DBSCAN_OPT'] == -1][[\"emb\"]].reset_index(drop=True)"
   ]
  },
  {
   "cell_type": "code",
   "execution_count": null,
   "id": "44c6b611",
   "metadata": {},
   "outputs": [],
   "source": [
    "KNC = KNeighborsClassifier(n_neighbors=5)\n",
    "KNC.fit(np.stack(X_train[\"emb\"].values), y_train.values.ravel())\n",
    "KNC_predictions = KNC.predict(np.stack(X_test[\"emb\"].values))"
   ]
  },
  {
   "cell_type": "code",
   "execution_count": null,
   "id": "366a1cf9",
   "metadata": {},
   "outputs": [],
   "source": [
    "data['Cluster_Hybrid'] = data['Cluster_DBSCAN_OPT']\n",
    "data.loc[data['Cluster_DBSCAN_OPT'] == -1, 'Cluster_Hybrid'] = KNC_predictions"
   ]
  },
  {
   "cell_type": "code",
   "execution_count": null,
   "id": "b39d4f4f",
   "metadata": {},
   "outputs": [],
   "source": [
    "silhouettescore = silhouette_score(np.stack(data[\"emb\"]), dbscan_predictions)"
   ]
  },
  {
   "cell_type": "code",
   "execution_count": null,
   "id": "c7fc1a86",
   "metadata": {},
   "outputs": [],
   "source": [
    "silhouettescore"
   ]
  },
  {
   "cell_type": "code",
   "execution_count": null,
   "id": "4de9a5bc",
   "metadata": {},
   "outputs": [],
   "source": []
  }
 ],
 "metadata": {
  "kernelspec": {
   "display_name": "Python 3 (ipykernel)",
   "language": "python",
   "name": "python3"
  },
  "language_info": {
   "codemirror_mode": {
    "name": "ipython",
    "version": 3
   },
   "file_extension": ".py",
   "mimetype": "text/x-python",
   "name": "python",
   "nbconvert_exporter": "python",
   "pygments_lexer": "ipython3",
   "version": "3.9.13"
  }
 },
 "nbformat": 4,
 "nbformat_minor": 5
}
