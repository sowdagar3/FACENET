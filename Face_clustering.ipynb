{
 "cells": [
  {
   "cell_type": "code",
   "execution_count": null,
   "id": "2b27fcfd",
   "metadata": {},
   "outputs": [],
   "source": [
    "import pandas as pd\n",
    "import numpy as np\n",
    "import os\n",
    "import glob\n",
    "from tqdm import tqdm\n",
    "import seaborn as sns\n",
    "import pickle \n",
    "\n",
    "import torch\n",
    "import cv2\n",
    "import matplotlib.pyplot as plt\n",
    "from facenet_pytorch import MTCNN, InceptionResnetV1, extract_face\n",
    "device = 'cuda:1' if torch.cuda.is_available() else 'cpu'\n",
    "from torchvision.transforms import ToTensor\n",
    "from sklearn.preprocessing import Normalizer\n",
    "from PIL import Image\n",
    "from sklearn.cluster import DBSCAN\n",
    "from sklearn.preprocessing import StandardScaler\n"
   ]
  },
  {
   "cell_type": "code",
   "execution_count": null,
   "id": "367c9c90",
   "metadata": {},
   "outputs": [],
   "source": [
    "data=np.load(\"100-Bollywood_celebrity-faces-embeddings.npz\")"
   ]
  },
  {
   "cell_type": "code",
   "execution_count": null,
   "id": "0e0aaa30",
   "metadata": {},
   "outputs": [],
   "source": [
    "emdTrainX, trainy, emdTestX, test=data[\"arr_0\"],data[\"arr_1\"],data[\"arr_2\"],data[\"arr_3\"]"
   ]
  },
  {
   "cell_type": "code",
   "execution_count": null,
   "id": "63e11995",
   "metadata": {},
   "outputs": [],
   "source": [
    "img_embeddings=np.concatenate((emdTrainX,emdTestX),axis=0)\n",
    "scaler = StandardScaler()\n",
    "img_embeddings=scaler.fit_transform(img_embeddings)"
   ]
  },
  {
   "cell_type": "code",
   "execution_count": null,
   "id": "2822b7f4",
   "metadata": {},
   "outputs": [],
   "source": [
    "print(img_embeddings.shape)"
   ]
  },
  {
   "cell_type": "code",
   "execution_count": null,
   "id": "36399a05",
   "metadata": {},
   "outputs": [],
   "source": [
    "_ = np.random.shuffle(img_embeddings)# to shuffle the image embeddings\n",
    "d={\"im_id\":list(range(img_embeddings.shape[0]))}"
   ]
  },
  {
   "cell_type": "code",
   "execution_count": null,
   "id": "f2710a57",
   "metadata": {},
   "outputs": [],
   "source": [
    "data=pd.DataFrame(d)"
   ]
  },
  {
   "cell_type": "code",
   "execution_count": null,
   "id": "3b7a4375",
   "metadata": {},
   "outputs": [],
   "source": [
    "data[\"emb\"]=img_embeddings.tolist()"
   ]
  },
  {
   "cell_type": "code",
   "execution_count": null,
   "id": "a6bfb4ab",
   "metadata": {},
   "outputs": [],
   "source": [
    "for i in range(len(data)):\n",
    "    data[\"emb\"][i]=np.array(data[\"emb\"][i])"
   ]
  },
  {
   "cell_type": "markdown",
   "id": "bf61489f",
   "metadata": {},
   "source": [
    "## Clustering"
   ]
  },
  {
   "cell_type": "code",
   "execution_count": null,
   "id": "8536c007",
   "metadata": {},
   "outputs": [],
   "source": [
    "from sklearn.neighbors import KNeighborsClassifier, NearestNeighbors\n",
    "from sklearn.metrics import silhouette_score\n",
    "import hdbscan"
   ]
  },
  {
   "cell_type": "code",
   "execution_count": null,
   "id": "1625d4c4",
   "metadata": {},
   "outputs": [],
   "source": [
    "X=img_embeddings\n",
    "hdbscan = hdbscan.HDBSCAN(min_cluster_size=12)\n",
    "hdbscan.fit(X)\n",
    "hdbscan_predictions = hdbscan.labels_\n",
    "data['Cluster_DBSCAN_OPT'] = hdbscan_predictions"
   ]
  },
  {
   "cell_type": "code",
   "execution_count": null,
   "id": "7574ba55",
   "metadata": {},
   "outputs": [],
   "source": [
    "np.unique(dbscan_predictions)"
   ]
  },
  {
   "cell_type": "code",
   "execution_count": null,
   "id": "01846c9b",
   "metadata": {},
   "outputs": [],
   "source": [
    "a=list(dbscan_predictions)\n",
    "a.count(-1)"
   ]
  },
  {
   "cell_type": "code",
   "execution_count": null,
   "id": "0a87d8ee",
   "metadata": {
    "scrolled": true
   },
   "outputs": [],
   "source": [
    "#Silhoutte_score without outliers\n",
    "silhouettescore = silhouette_score(np.stack(data[\"emb\"][dbscan_predictions!=-1]), dbscan_predictions[dbscan_predictions!=-1])\n",
    "print(silhouettescore)"
   ]
  },
  {
   "cell_type": "code",
   "execution_count": null,
   "id": "17343351",
   "metadata": {},
   "outputs": [],
   "source": [
    "X_train = data[data['Cluster_DBSCAN_OPT'] != -1][[\"emb\"]].reset_index(drop=True)\n",
    "y_train = data[data['Cluster_DBSCAN_OPT'] != -1][['Cluster_DBSCAN_OPT']].reset_index(drop=True)\n",
    "X_test = data[data['Cluster_DBSCAN_OPT'] == -1][[\"emb\"]].reset_index(drop=True)"
   ]
  },
  {
   "cell_type": "code",
   "execution_count": null,
   "id": "44c6b611",
   "metadata": {},
   "outputs": [],
   "source": [
    "KNC = KNeighborsClassifier(n_neighbors=5)\n",
    "KNC.fit(np.stack(X_train[\"emb\"].values), y_train.values.ravel())\n",
    "KNC_predictions = KNC.predict(np.stack(X_test[\"emb\"].values))"
   ]
  },
  {
   "cell_type": "code",
   "execution_count": null,
   "id": "366a1cf9",
   "metadata": {},
   "outputs": [],
   "source": [
    "data['Cluster_Hybrid'] = data['Cluster_DBSCAN_OPT']\n",
    "data.loc[data['Cluster_DBSCAN_OPT'] == -1, 'Cluster_Hybrid'] = KNC_predictions"
   ]
  },
  {
   "cell_type": "code",
   "execution_count": null,
   "id": "b39d4f4f",
   "metadata": {},
   "outputs": [],
   "source": [
    "silhouettescore = silhouette_score(np.stack(data[\"emb\"]), dbscan_predictions)"
   ]
  },
  {
   "cell_type": "code",
   "execution_count": null,
   "id": "c7fc1a86",
   "metadata": {},
   "outputs": [],
   "source": [
    "silhouettescore"
   ]
  },
  {
   "cell_type": "code",
   "execution_count": null,
   "id": "4de9a5bc",
   "metadata": {},
   "outputs": [],
   "source": []
  }
 ],
 "metadata": {
  "kernelspec": {
   "display_name": "Python 3 (ipykernel)",
   "language": "python",
   "name": "python3"
  },
  "language_info": {
   "codemirror_mode": {
    "name": "ipython",
    "version": 3
   },
   "file_extension": ".py",
   "mimetype": "text/x-python",
   "name": "python",
   "nbconvert_exporter": "python",
   "pygments_lexer": "ipython3",
   "version": "3.9.13"
  }
 },
 "nbformat": 4,
 "nbformat_minor": 5
}
