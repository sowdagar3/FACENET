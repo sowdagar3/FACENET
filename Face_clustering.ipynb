{
 "cells": [
  {
   "cell_type": "code",
   "execution_count": 16,
   "id": "2b27fcfd",
   "metadata": {},
   "outputs": [],
   "source": [
    "import pandas as pd\n",
    "import numpy as np\n",
    "import os\n",
    "import glob\n",
    "from tqdm import tqdm\n",
    "import pickle \n",
    "\n",
    "import torch\n",
    "import cv2\n",
    "import matplotlib.pyplot as plt\n",
    "from facenet_pytorch import MTCNN, InceptionResnetV1, extract_face\n",
    "device = 'cuda:1' if torch.cuda.is_available() else 'cpu'\n",
    "from torchvision.transforms import ToTensor\n",
    "from sklearn.preprocessing import Normalizer\n",
    "from PIL import Image\n",
    "from sklearn.cluster import DBSCAN\n",
    "from sklearn.preprocessing import StandardScaler\n"
   ]
  },
  {
   "cell_type": "code",
   "execution_count": 17,
   "id": "367c9c90",
   "metadata": {},
   "outputs": [],
   "source": [
    "data=np.load(\"100-Bollywood_celebrity-faces-embeddings.npz\")"
   ]
  },
  {
   "cell_type": "code",
   "execution_count": 18,
   "id": "0e0aaa30",
   "metadata": {},
   "outputs": [],
   "source": [
    "emdTrainX, trainy, emdTestX, test=data[\"arr_0\"],data[\"arr_1\"],data[\"arr_2\"],data[\"arr_3\"]"
   ]
  },
  {
   "cell_type": "code",
   "execution_count": 19,
   "id": "63e11995",
   "metadata": {},
   "outputs": [],
   "source": [
    "img_embeddings=np.concatenate((emdTrainX,emdTestX),axis=0)\n",
    "# scaler = StandardScaler()\n",
    "# img_embeddings=scaler.fit_transform(img_embeddings)"
   ]
  },
  {
   "cell_type": "code",
   "execution_count": 20,
   "id": "2822b7f4",
   "metadata": {},
   "outputs": [
    {
     "name": "stdout",
     "output_type": "stream",
     "text": [
      "(11803, 512)\n"
     ]
    }
   ],
   "source": [
    "print(img_embeddings.shape)"
   ]
  },
  {
   "cell_type": "code",
   "execution_count": 21,
   "id": "36399a05",
   "metadata": {},
   "outputs": [],
   "source": [
    "np.random.shuffle(img_embeddings)# to shuffle the image embeddings\n",
    "d={\"im_id\":list(range(img_embeddings.shape[0]))}"
   ]
  },
  {
   "cell_type": "code",
   "execution_count": 22,
   "id": "f2710a57",
   "metadata": {},
   "outputs": [],
   "source": [
    "data=pd.DataFrame(d)"
   ]
  },
  {
   "cell_type": "code",
   "execution_count": 23,
   "id": "3b7a4375",
   "metadata": {},
   "outputs": [],
   "source": [
    "data[\"emb\"]=img_embeddings.tolist()"
   ]
  },
  {
   "cell_type": "code",
   "execution_count": 25,
   "id": "b28b1989-f911-44ca-9f14-6e131aa4f083",
   "metadata": {},
   "outputs": [],
   "source": [
    "data[\"emb\"]=data[\"emb\"].apply(lambda x: np.array(x))"
   ]
  },
  {
   "cell_type": "markdown",
   "id": "bf61489f",
   "metadata": {},
   "source": [
    "## Clustering"
   ]
  },
  {
   "cell_type": "code",
   "execution_count": 33,
   "id": "8536c007",
   "metadata": {},
   "outputs": [],
   "source": [
    "from sklearn.neighbors import KNeighborsClassifier, NearestNeighbors\n",
    "from kneed import KneeLocator\n",
    "from sklearn.metrics import silhouette_score\n",
    "import hdbscan"
   ]
  },
  {
   "cell_type": "code",
   "execution_count": 34,
   "id": "1625d4c4",
   "metadata": {},
   "outputs": [],
   "source": [
    "X=img_embeddings\n",
    "dbscan = hdbscan.HDBSCAN(min_cluster_size=12)\n",
    "dbscan.fit(X)\n",
    "dbscan_predictions = dbscan.labels_\n",
    "data['Cluster_DBSCAN_OPT'] = dbscan_predictions"
   ]
  },
  {
   "cell_type": "code",
   "execution_count": 35,
   "id": "7574ba55",
   "metadata": {},
   "outputs": [
    {
     "data": {
      "text/plain": [
       "array([-1,  0,  1,  2,  3,  4,  5,  6,  7,  8,  9, 10, 11, 12, 13, 14, 15,\n",
       "       16, 17, 18, 19, 20, 21, 22, 23, 24, 25, 26, 27, 28, 29, 30, 31, 32,\n",
       "       33, 34, 35, 36, 37, 38, 39, 40, 41, 42, 43, 44, 45, 46, 47, 48, 49,\n",
       "       50, 51, 52, 53, 54, 55, 56, 57, 58, 59, 60, 61, 62, 63, 64, 65, 66,\n",
       "       67, 68, 69, 70, 71, 72, 73, 74, 75, 76, 77, 78, 79, 80, 81, 82, 83,\n",
       "       84, 85, 86, 87, 88, 89, 90, 91, 92, 93, 94, 95, 96, 97, 98])"
      ]
     },
     "execution_count": 35,
     "metadata": {},
     "output_type": "execute_result"
    }
   ],
   "source": [
    "np.unique(dbscan_predictions)"
   ]
  },
  {
   "cell_type": "code",
   "execution_count": 36,
   "id": "01846c9b",
   "metadata": {},
   "outputs": [
    {
     "data": {
      "text/plain": [
       "4876"
      ]
     },
     "execution_count": 36,
     "metadata": {},
     "output_type": "execute_result"
    }
   ],
   "source": [
    "a=list(dbscan_predictions)\n",
    "a.count(-1)"
   ]
  },
  {
   "cell_type": "code",
   "execution_count": 37,
   "id": "0a87d8ee",
   "metadata": {
    "scrolled": true
   },
   "outputs": [
    {
     "name": "stdout",
     "output_type": "stream",
     "text": [
      "0.2643709064450349\n"
     ]
    }
   ],
   "source": [
    "#Silhoutte_score without outliers\n",
    "silhouettescore = silhouette_score(np.stack(data[\"emb\"][dbscan_predictions!=-1]), dbscan_predictions[dbscan_predictions!=-1])\n",
    "print(silhouettescore)"
   ]
  },
  {
   "cell_type": "code",
   "execution_count": 38,
   "id": "17343351",
   "metadata": {},
   "outputs": [],
   "source": [
    "X_train = data[data['Cluster_DBSCAN_OPT'] != -1][[\"emb\"]].reset_index(drop=True)\n",
    "y_train = data[data['Cluster_DBSCAN_OPT'] != -1][['Cluster_DBSCAN_OPT']].reset_index(drop=True)\n",
    "X_test = data[data['Cluster_DBSCAN_OPT'] == -1][[\"emb\"]].reset_index(drop=True)"
   ]
  },
  {
   "cell_type": "code",
   "execution_count": 39,
   "id": "44c6b611",
   "metadata": {},
   "outputs": [],
   "source": [
    "KNC = KNeighborsClassifier(n_neighbors=5)\n",
    "KNC.fit(np.stack(X_train[\"emb\"].values), y_train.values.ravel())\n",
    "KNC_predictions = KNC.predict(np.stack(X_test[\"emb\"].values))"
   ]
  },
  {
   "cell_type": "code",
   "execution_count": 40,
   "id": "366a1cf9",
   "metadata": {},
   "outputs": [],
   "source": [
    "data['Cluster_Hybrid'] = data['Cluster_DBSCAN_OPT']\n",
    "data.loc[data['Cluster_DBSCAN_OPT'] == -1, 'Cluster_Hybrid'] = KNC_predictions"
   ]
  },
  {
   "cell_type": "code",
   "execution_count": 41,
   "id": "b39d4f4f",
   "metadata": {},
   "outputs": [],
   "source": [
    "silhouettescore = silhouette_score(np.stack(data[\"emb\"]), dbscan_predictions)"
   ]
  },
  {
   "cell_type": "code",
   "execution_count": 42,
   "id": "c7fc1a86",
   "metadata": {},
   "outputs": [
    {
     "data": {
      "text/plain": [
       "0.03417451681261255"
      ]
     },
     "execution_count": 42,
     "metadata": {},
     "output_type": "execute_result"
    }
   ],
   "source": [
    "silhouettescore"
   ]
  },
  {
   "cell_type": "code",
   "execution_count": null,
   "id": "4de9a5bc",
   "metadata": {},
   "outputs": [],
   "source": []
  }
 ],
 "metadata": {
  "kernelspec": {
   "display_name": "Python 3 (ipykernel)",
   "language": "python",
   "name": "python3"
  },
  "language_info": {
   "codemirror_mode": {
    "name": "ipython",
    "version": 3
   },
   "file_extension": ".py",
   "mimetype": "text/x-python",
   "name": "python",
   "nbconvert_exporter": "python",
   "pygments_lexer": "ipython3",
   "version": "3.8.18"
  }
 },
 "nbformat": 4,
 "nbformat_minor": 5
}
